{
 "cells": [
  {
   "cell_type": "code",
   "execution_count": 1,
   "metadata": {},
   "outputs": [],
   "source": [
    "from metrics import mean_squared_error\n",
    "from polynomial_regression import PolynomialRegression\n",
    "from generate_regression_data import generate_regression_data\n",
    "from load_json_data import load_json_data\n",
    "import numpy as np \n",
    "import random\n",
    "try:\n",
    "    import matplotlib.pyplot as plt\n",
    "except:\n",
    "    import matplotlib\n",
    "    matplotlib.use('Agg')\n",
    "    import matplotlib.pyplot as plt\n",
    "\n"
   ]
  },
  {
   "cell_type": "code",
   "execution_count": 15,
   "metadata": {},
   "outputs": [],
   "source": [
    "features, targets = generate_regression_data(4, 100, 0.1)"
   ]
  },
  {
   "cell_type": "code",
   "execution_count": 16,
   "metadata": {},
   "outputs": [
    {
     "data": {
      "text/plain": [
       "array([ 2.99281790e-01,  3.77260808e-01,  8.95358120e-01, -9.90626632e-01,\n",
       "       -5.55782550e-01,  9.60675580e-01,  3.55760985e-01, -2.12268174e-01,\n",
       "       -3.72737021e-01,  9.38524642e-01, -5.13544320e-01, -9.60899817e-01,\n",
       "        5.41190146e-01,  3.00906886e-01, -9.94469145e-01,  1.50707458e-01,\n",
       "        4.82407926e-01, -3.57890070e-01,  1.76852084e-01, -4.93473944e-03,\n",
       "        7.02287627e-01,  2.77745363e-01, -1.92631872e-01,  8.84210239e-01,\n",
       "        6.99767903e-01, -5.09244959e-01,  2.67204818e-04,  4.86658358e-01,\n",
       "        4.54040541e-01,  6.95670496e-01,  3.07800964e-01,  4.03834755e-02,\n",
       "        5.88783178e-01, -3.72628111e-01,  8.18736967e-01,  4.21322700e-03,\n",
       "       -3.47448194e-01, -6.07441122e-01,  2.48226409e-01,  5.33670601e-01,\n",
       "        3.96799800e-01, -4.56269904e-03,  4.37502245e-01, -8.20869710e-01,\n",
       "        9.89577715e-02, -4.01043553e-01,  1.78901250e-02,  9.43936751e-01,\n",
       "        1.39458705e-01, -3.77302262e-01,  3.44747171e-01,  1.56804143e-01,\n",
       "        5.25441457e-01, -2.27551028e-01, -2.74247715e-01,  4.66471491e-01,\n",
       "        9.64642465e-01,  2.88958129e-01, -4.16775730e-02,  3.34365792e-01,\n",
       "       -9.28608293e-01, -3.01767504e-01,  3.76779209e-01,  6.05014018e-02,\n",
       "       -4.94580797e-01, -5.15596649e-01,  5.08016669e-01,  9.26721284e-01,\n",
       "       -9.78426232e-01,  3.25172884e-02,  8.20919476e-01, -2.94512163e-02,\n",
       "        8.97849433e-02, -6.70180365e-01,  2.35734924e-01, -1.94595896e-01,\n",
       "       -1.22717682e-01, -9.38884951e-01, -7.21138842e-01, -1.59551661e-02,\n",
       "        3.06454402e-01, -5.57783078e-01,  8.23283912e-01,  2.12221246e-01,\n",
       "       -3.75859466e-01,  8.23375371e-01,  9.72796826e-01, -2.07843172e-01,\n",
       "       -7.59882067e-01, -9.33388806e-01, -7.59669947e-01,  3.92421523e-01,\n",
       "        1.24907135e-02,  8.69429782e-01, -2.08992710e-01, -5.16244237e-01,\n",
       "        4.12552833e-01, -4.05603473e-01, -1.62150290e-01,  1.70689778e-01])"
      ]
     },
     "execution_count": 16,
     "metadata": {},
     "output_type": "execute_result"
    }
   ],
   "source": [
    "features"
   ]
  },
  {
   "cell_type": "code",
   "execution_count": 17,
   "metadata": {},
   "outputs": [
    {
     "data": {
      "text/plain": [
       "array([ 0.00872483,  0.64116344,  5.69323608,  3.05281006, -3.2853541 ,\n",
       "        6.34703141,  0.84912885, -3.06959376, -3.46922147,  6.02838683,\n",
       "       -3.51043615,  2.33985326,  1.67721471,  0.99334805,  3.06877279,\n",
       "       -0.86975861,  1.38110762, -3.44206321, -0.74289532, -1.75541501,\n",
       "        3.43609672,  0.03197872, -3.24642474,  5.6182265 ,  3.57153248,\n",
       "       -3.63304796, -1.66995036,  1.72986729,  1.46393582,  3.16840687,\n",
       "        0.54677447, -1.2949086 ,  2.6536081 , -3.67251336,  4.65950635,\n",
       "       -1.56609649, -3.67927921, -2.81044253,  0.39472068,  1.52870638,\n",
       "        0.72543106, -1.71991283,  1.15803671, -0.91053113, -0.96769275,\n",
       "       -3.51000184, -1.33897828,  5.84766071, -0.99435472, -3.49056887,\n",
       "        0.69394855, -0.93565844,  1.77830936, -3.39074415, -3.1213521 ,\n",
       "        1.59921578,  6.36571958,  0.07942518, -1.67146872,  0.50063686,\n",
       "        1.8921954 , -3.55528999,  0.27446693, -1.52142051, -3.19252096,\n",
       "       -3.30132309,  2.25012629,  5.30632973,  2.50818285, -1.94313739,\n",
       "        4.31336021, -1.77210702, -1.15359472, -2.93876617,  0.11268078,\n",
       "       -2.88382396, -2.04011438,  1.71336966, -2.28522465, -1.42809715,\n",
       "        0.03055241, -3.60498807,  4.32673223,  0.1640139 , -3.68328698,\n",
       "        4.01655106,  6.53513751, -2.71922011, -1.30635526,  1.42906695,\n",
       "       -1.82576092,  1.13397183, -1.97417425,  5.12383235, -3.11120034,\n",
       "       -2.97679259,  0.8822679 , -3.53915279, -2.65154717, -0.15489256])"
      ]
     },
     "execution_count": 17,
     "metadata": {},
     "output_type": "execute_result"
    }
   ],
   "source": [
    "targets"
   ]
  },
  {
   "cell_type": "code",
   "execution_count": 64,
   "metadata": {},
   "outputs": [
    {
     "data": {
      "text/plain": [
       "<matplotlib.legend.Legend at 0x1d70bd7e800>"
      ]
     },
     "execution_count": 64,
     "metadata": {},
     "output_type": "execute_result"
    },
    {
     "data": {
      "image/png": "[encoded data removed]",
      "text/plain": [
       "<Figure size 432x288 with 2 Axes>"
      ]
     },
     "metadata": {
      "needs_background": "light"
     },
     "output_type": "display_data"
    }
   ],
   "source": [
    "x = np.random.uniform(-1, 1, size=(10)) \n",
    "y = np.random.uniform(-1, 1, size=(10))\n",
    "#print(targets.shape[0])\n",
    "rand = random.sample(range(0, 10), 10)\n",
    "counter = 0\n",
    "for i in rand:\n",
    "    x[counter] = features[i]\n",
    "    y[counter] = targets[i]\n",
    "    counter += 1\n",
    "\n",
    "# now x: randomly selected 50 features\n",
    "# now y: corresponding selected 50 targets\n",
    "# (x,y): training dataset\n",
    "# (a,b): testing dataset\n",
    "a = np.delete(features, rand)\n",
    "b = np.delete(targets, rand)\n",
    "\n",
    "degr = [0 ,1, 2, 3, 4, 5, 6, 7, 8, 9]\n",
    "trainMSE = []\n",
    "mse = []\n",
    "lowestTest = 0\n",
    "lowestTestPred = 0\n",
    "lowestTestD = 0\n",
    "lowestTestError = 100\n",
    "lowestTra = 0\n",
    "lowestTraPred = 0\n",
    "lowestTraD = 0\n",
    "lowestTraError = 100\n",
    "\n",
    "lowestTraCoef = None\n",
    "lowestTestCoef = None\n",
    "for t in range(10):\n",
    "    learner = PolynomialRegression(degree=t)\n",
    "    \n",
    "    \n",
    "    #print(\"trani: {}\".format(t))\n",
    "    #print('x: {}'.format(x))\n",
    "    #print('y: {}'.format(y))\n",
    "    learner.fit(x, y)\n",
    "    #for i in rand:\n",
    "        #a = np.delete(features, i, 0)\n",
    "    predict = learner.predict(a)\n",
    "    #print(a)\n",
    "    mse.append(mean_squared_error(predict, b))\n",
    "    trainPred = learner.predict(x)\n",
    "    trainMSE.append(mean_squared_error(trainPred, y))\n",
    "    #learner.visualize(a, b)\n",
    "    #learner.visualize(a, predict)\n",
    "    if mean_squared_error(predict, b) < lowestTestError:\n",
    "        lowestTestError = mean_squared_error(predict, b)\n",
    "        lowestTestD = t\n",
    "        lowestTest = a\n",
    "        lowestTestPred = predict\n",
    "        lowestTestCoef = learner.parameters\n",
    "    if mean_squared_error(trainPred, y) < lowestTraError:\n",
    "        lowestTraError = mean_squared_error(trainPred, y)\n",
    "        lowestTraD = t\n",
    "        lowestTra = x\n",
    "        lowestTraPred = trainPred\n",
    "        lowestTraCoef = learner.parameters\n",
    "\n",
    "degr = np.array(degr)\n",
    "mse = np.array(mse)\n",
    "trainMSE = np.array(trainMSE)\n",
    "mse = np.log10(mse)\n",
    "trainMSE = np.log10(trainMSE)\n",
    "plt.figure(figsize=(6,4))\n",
    "plt.xlabel('degree', fontsize=10)\n",
    "plt.ylabel('mean_squared_error', fontsize=10)\n",
    "\n",
    "plt.subplot(211)\n",
    "plt.scatter(degr, mse)\n",
    "plt.scatter(degr, trainMSE)\n",
    "plt.title(\"data_file\")\n",
    "plt.plot(degr, mse, label ='np.log10 test MSE')\n",
    "plt.plot(degr, trainMSE, label ='np.log10 train MSE')\n",
    "plt.legend()\n",
    "\n",
    "plt.subplot(212)\n",
    "plt.scatter(lowestTra, lowestTraPred, label = 'lowest training error, degree: ' + str(lowestTraD))\n",
    "plt.scatter(lowestTest, lowestTestPred, label = 'lowest testing error, degree: ' + str(lowestTestD))\n",
    "#plt.plot(lowestTra, lowestTraPred, label = 'lowestTrain, degree: ')\n",
    "#plt.plot(degr, lowestTest, label = 'lowestTest, degree: ')\n",
    "plt.legend()\n"
   ]
  },
  {
   "cell_type": "code",
   "execution_count": 62,
   "metadata": {},
   "outputs": [
    {
     "data": {
      "text/plain": [
       "array([-1.73877584,  6.52745251,  2.1529689 , -5.22464675,  4.7810414 ,\n",
       "        0.56613789])"
      ]
     },
     "execution_count": 62,
     "metadata": {},
     "output_type": "execute_result"
    }
   ],
   "source": [
    "lowestTestCoef"
   ]
  },
  {
   "cell_type": "code",
   "execution_count": 20,
   "metadata": {},
   "outputs": [],
   "source": [
    "def PolyCoefficients(x, coeffs):\n",
    "    \"\"\" Returns a polynomial for ``x`` values for the ``coeffs`` provided.\n",
    "\n",
    "    The coefficients must be in ascending order (``x**0`` to ``x**o``).\n",
    "    \"\"\"\n",
    "    o = len(coeffs)\n",
    "    print(f'# This is a polynomial of order {ord}.')\n",
    "    y = 0\n",
    "    for i in range(o):\n",
    "        y += coeffs[i]*x**i\n",
    "    return y\n"
   ]
  },
  {
   "cell_type": "code",
   "execution_count": 52,
   "metadata": {},
   "outputs": [
    {
     "data": {
      "text/plain": [
       "array([-0.37273702,  0.89535812,  0.29928179,  0.37726081,  0.96067558,\n",
       "        0.35576098, -0.99062663, -0.21226817, -0.55578255,  0.93852464])"
      ]
     },
     "execution_count": 52,
     "metadata": {},
     "output_type": "execute_result"
    }
   ],
   "source": []
  },
  {
   "cell_type": "code",
   "execution_count": 67,
   "metadata": {},
   "outputs": [
    {
     "name": "stdout",
     "output_type": "stream",
     "text": [
      "# This is a polynomial of order <built-in function ord>.\n"
     ]
    },
    {
     "data": {
      "text/plain": [
       "[<matplotlib.lines.Line2D at 0x1d70befcd90>]"
      ]
     },
     "execution_count": 67,
     "metadata": {},
     "output_type": "execute_result"
    },
    {
     "data": {
      "image/png": "[encoded data removed]",
      "text/plain": [
       "<Figure size 432x288 with 1 Axes>"
      ]
     },
     "metadata": {
      "needs_background": "light"
     },
     "output_type": "display_data"
    }
   ],
   "source": [
    "plt.figure(figsize=(6,4))\n",
    "plt.xlabel('training data x', fontsize=10)\n",
    "plt.ylabel('training data y', fontsize=10)    \n",
    "\n",
    "\n",
    "plt.scatter(x, y)\n",
    "#plt.scatter(lowestTra, lowestTraPred, label = 'lowestTrain, degree: ' + str(lowestTraD))\n",
    "#plt.scatter(lowestTest, lowestTestPred, label = 'lowestTest, degree: ' + str(lowestTestD))\n",
    "#plt.plot(lowestTra, lowestTraPred, label = 'lowestTrain, degree: ')\n",
    "#plt.plot(degr, lowestTest, label = 'lowestTest, degree: ')\n",
    "#plt.legend()\n",
    "\n",
    "x_ = np.linspace(-1, 1, 100)\n",
    "#plt.title(\"lowest testing error, degree=4\")\n",
    "#plt.plot(x_, PolyCoefficients(x_, lowestTestCoef))\n",
    "plt.title(\"lowest training error, degree=9\")\n",
    "plt.plot(x_, PolyCoefficients(x_, lowestTraCoef))"
   ]
  },
  {
   "cell_type": "code",
   "execution_count": 59,
   "metadata": {},
   "outputs": [
    {
     "name": "stdout",
     "output_type": "stream",
     "text": [
      "# This is a polynomial of order <built-in function ord>.\n"
     ]
    },
    {
     "data": {
      "text/plain": [
       "[<matplotlib.lines.Line2D at 0x1d70bc43340>]"
      ]
     },
     "execution_count": 59,
     "metadata": {},
     "output_type": "execute_result"
    },
    {
     "data": {
      "image/png": "[encoded data removed]",
      "text/plain": [
       "<Figure size 432x288 with 1 Axes>"
      ]
     },
     "metadata": {
      "needs_background": "light"
     },
     "output_type": "display_data"
    }
   ],
   "source": [
    "plt.scatter(features, targets)\n",
    "\n",
    "x = np.linspace(-1, 1, 100)\n",
    "#plt.plot(x, PolyCoefficients(x, lowestTestCoef), label = 'lowestTest, degree: ')\n",
    "plt.plot(x, PolyCoefficients(x, lowestTraCoef), label = 'lowestTrain, degree: ')\n"
   ]
  }
 ],
 "metadata": {
  "interpreter": {
   "hash": "cb91e6308739e7d464ed6e4ea56aa0ecb9b66ce1c63d2c5427671130b7eac5c4"
  },
  "kernelspec": {
   "display_name": "Python 3.10.0 ('hw4-linear-regression')",
   "language": "python",
   "name": "python3"
  },
  "language_info": {
   "codemirror_mode": {
    "name": "ipython",
    "version": 3
   },
   "file_extension": ".py",
   "mimetype": "text/x-python",
   "name": "python",
   "nbconvert_exporter": "python",
   "pygments_lexer": "ipython3",
   "version": "3.10.0"
  },
  "orig_nbformat": 4
 },
 "nbformat": 4,
 "nbformat_minor": 2
}
